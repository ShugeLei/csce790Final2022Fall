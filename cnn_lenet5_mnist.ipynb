{
  "cells": [
    {
      "cell_type": "markdown",
      "metadata": {
        "id": "rH4XmErYj5wm"
      },
      "source": [
        "# LeNet-5 MNIST Digits Classifier"
      ]
    },
    {
      "cell_type": "markdown",
      "metadata": {
        "id": "MkoGLH_Tj5wn"
      },
      "source": [
        "## Imports"
      ]
    },
    {
      "cell_type": "code",
      "execution_count": 4,
      "metadata": {
        "id": "ORj09gnrj5wp"
      },
      "outputs": [],
      "source": [
        "import os\n",
        "import time\n",
        "\n",
        "import numpy as np\n",
        "import pandas as pd\n",
        "\n",
        "import torch\n",
        "import torch.nn as nn\n",
        "import torch.nn.functional as F\n",
        "from torch.utils.data import DataLoader\n",
        "\n",
        "from torchvision import datasets\n",
        "from torchvision import transforms\n",
        "\n",
        "import matplotlib.pyplot as plt\n",
        "from PIL import Image\n",
        "\n",
        "\n",
        "if torch.cuda.is_available():\n",
        "    torch.backends.cudnn.deterministic = True"
      ]
    },
    {
      "cell_type": "markdown",
      "metadata": {
        "id": "I6hghKPxj5w0"
      },
      "source": [
        "## Model Settings"
      ]
    },
    {
      "cell_type": "code",
      "execution_count": 5,
      "metadata": {
        "id": "NnT0sZIwj5wu"
      },
      "outputs": [],
      "source": [
        "\n",
        "# Hyperparameters\n",
        "RANDOM_SEED = 1\n",
        "LEARNING_RATE = 0.001\n",
        "BATCH_SIZE = 128\n",
        "NUM_EPOCHS = 10\n",
        "\n",
        "# Architecture\n",
        "NUM_FEATURES = 32*32\n",
        "NUM_CLASSES = 10\n",
        "\n",
        "# Other\n",
        "DEVICE = \"cuda:0\"\n",
        "GRAYSCALE = True"
      ]
    },
    {
      "cell_type": "markdown",
      "metadata": {
        "id": "ifoIPogKUiJj"
      },
      "source": [
        "### MNIST Dataset"
      ]
    },
    {
      "cell_type": "code",
      "execution_count": null,
      "metadata": {
        "id": "xv0bsSWOUiJj"
      },
      "outputs": [],
      "source": [
        "resize_transform = transforms.Compose([transforms.Resize((32, 32)),\n",
        "                                       transforms.ToTensor()])\n",
        "train_dataset = datasets.MNIST(root='data', \n",
        "                               train=True, \n",
        "                               transform=resize_transform,\n",
        "                               download=True)\n",
        "\n",
        "test_dataset = datasets.MNIST(root='data', \n",
        "                              train=False, \n",
        "                              transform=resize_transform)\n",
        "\n",
        "\n",
        "train_loader = DataLoader(dataset=train_dataset, \n",
        "                          batch_size=BATCH_SIZE, \n",
        "                          shuffle=True)\n",
        "\n",
        "test_loader = DataLoader(dataset=test_dataset, \n",
        "                         batch_size=BATCH_SIZE, \n",
        "                         shuffle=False)\n",
        "\n",
        "# Checking the dataset\n",
        "for images, labels in train_loader:  \n",
        "    print('Image batch dimensions:', images.shape)\n",
        "    print('Image label dimensions:', labels.shape)\n",
        "    break"
      ]
    },
    {
      "cell_type": "code",
      "execution_count": 7,
      "metadata": {
        "colab": {
          "base_uri": "https://localhost:8080/"
        },
        "id": "5m7raMxIUiJk",
        "outputId": "4d665208-d622-40e0-c6e7-685e8f572d78"
      },
      "outputs": [
        {
          "output_type": "stream",
          "name": "stdout",
          "text": [
            "Epoch: 1 | Batch index: 0 | Batch size: 128\n",
            "Epoch: 2 | Batch index: 0 | Batch size: 128\n"
          ]
        }
      ],
      "source": [
        "device = torch.device(DEVICE)\n",
        "torch.manual_seed(0)\n",
        "\n",
        "for epoch in range(2):\n",
        "\n",
        "    for batch_idx, (x, y) in enumerate(train_loader):\n",
        "        \n",
        "        print('Epoch:', epoch+1, end='')\n",
        "        print(' | Batch index:', batch_idx, end='')\n",
        "        print(' | Batch size:', y.size()[0])\n",
        "        \n",
        "        x = x.to(device)\n",
        "        y = y.to(device)\n",
        "        break"
      ]
    },
    {
      "cell_type": "code",
      "execution_count": 8,
      "metadata": {
        "id": "lupm3caXUiJk"
      },
      "outputs": [],
      "source": [
        "### MODEL\n",
        "class LeNet5(nn.Module):\n",
        "\n",
        "    def __init__(self, num_classes, grayscale=False):\n",
        "        super(LeNet5, self).__init__()\n",
        "        \n",
        "        self.grayscale = grayscale\n",
        "        self.num_classes = num_classes\n",
        "\n",
        "        if self.grayscale:\n",
        "            in_channels = 1\n",
        "        else:\n",
        "            in_channels = 3\n",
        "\n",
        "        self.features = nn.Sequential(\n",
        "            \n",
        "            nn.Conv2d(in_channels, 6, kernel_size=5),\n",
        "            nn.Tanh(),\n",
        "            nn.MaxPool2d(kernel_size=2),\n",
        "            nn.Conv2d(6, 16, kernel_size=5),\n",
        "            nn.Tanh(),\n",
        "            nn.MaxPool2d(kernel_size=2)\n",
        "        )\n",
        "\n",
        "        self.classifier = nn.Sequential(\n",
        "            nn.Linear(16*5*5, 120),\n",
        "            nn.Tanh(),\n",
        "            nn.Linear(120, 84),\n",
        "            nn.Tanh(),\n",
        "            nn.Linear(84, num_classes),\n",
        "        )\n",
        "\n",
        "\n",
        "    def forward(self, x):\n",
        "        x = self.features(x)\n",
        "        x = torch.flatten(x, 1)\n",
        "        logits = self.classifier(x)\n",
        "        probas = F.softmax(logits, dim=1)\n",
        "        return logits, probas"
      ]
    },
    {
      "cell_type": "code",
      "execution_count": 9,
      "metadata": {
        "id": "_lza9t_uj5w1"
      },
      "outputs": [],
      "source": [
        "torch.manual_seed(RANDOM_SEED)\n",
        "\n",
        "model = LeNet5(NUM_CLASSES, GRAYSCALE)\n",
        "model.to(DEVICE)\n",
        "\n",
        "optimizer = torch.optim.Adam(model.parameters(), lr=LEARNING_RATE)  "
      ]
    },
    {
      "cell_type": "markdown",
      "metadata": {
        "id": "RAodboScj5w6"
      },
      "source": [
        "## Training"
      ]
    },
    {
      "cell_type": "code",
      "execution_count": 10,
      "metadata": {
        "colab": {
          "base_uri": "https://localhost:8080/"
        },
        "id": "Dzh3ROmRj5w7",
        "outputId": "bf5e79b1-9d73-4d42-b194-df8c46565df6"
      },
      "outputs": [
        {
          "output_type": "stream",
          "name": "stdout",
          "text": [
            "Epoch: 001/010 | Batch 0000/0469 | Cost: 2.3056\n",
            "Epoch: 001/010 | Batch 0050/0469 | Cost: 0.5722\n",
            "Epoch: 001/010 | Batch 0100/0469 | Cost: 0.2986\n",
            "Epoch: 001/010 | Batch 0150/0469 | Cost: 0.2653\n",
            "Epoch: 001/010 | Batch 0200/0469 | Cost: 0.2659\n",
            "Epoch: 001/010 | Batch 0250/0469 | Cost: 0.1108\n",
            "Epoch: 001/010 | Batch 0300/0469 | Cost: 0.2026\n",
            "Epoch: 001/010 | Batch 0350/0469 | Cost: 0.1334\n",
            "Epoch: 001/010 | Batch 0400/0469 | Cost: 0.1609\n",
            "Epoch: 001/010 | Batch 0450/0469 | Cost: 0.0795\n",
            "Epoch: 001/010 | Train: 97.047%\n",
            "Time elapsed: 0.39 min\n",
            "Epoch: 002/010 | Batch 0000/0469 | Cost: 0.1569\n",
            "Epoch: 002/010 | Batch 0050/0469 | Cost: 0.0803\n",
            "Epoch: 002/010 | Batch 0100/0469 | Cost: 0.0453\n",
            "Epoch: 002/010 | Batch 0150/0469 | Cost: 0.0685\n",
            "Epoch: 002/010 | Batch 0200/0469 | Cost: 0.1667\n",
            "Epoch: 002/010 | Batch 0250/0469 | Cost: 0.1194\n",
            "Epoch: 002/010 | Batch 0300/0469 | Cost: 0.1157\n",
            "Epoch: 002/010 | Batch 0350/0469 | Cost: 0.0419\n",
            "Epoch: 002/010 | Batch 0400/0469 | Cost: 0.1265\n",
            "Epoch: 002/010 | Batch 0450/0469 | Cost: 0.0464\n",
            "Epoch: 002/010 | Train: 98.533%\n",
            "Time elapsed: 0.66 min\n",
            "Epoch: 003/010 | Batch 0000/0469 | Cost: 0.0078\n",
            "Epoch: 003/010 | Batch 0050/0469 | Cost: 0.0677\n",
            "Epoch: 003/010 | Batch 0100/0469 | Cost: 0.0737\n",
            "Epoch: 003/010 | Batch 0150/0469 | Cost: 0.0672\n",
            "Epoch: 003/010 | Batch 0200/0469 | Cost: 0.0923\n",
            "Epoch: 003/010 | Batch 0250/0469 | Cost: 0.0994\n",
            "Epoch: 003/010 | Batch 0300/0469 | Cost: 0.0310\n",
            "Epoch: 003/010 | Batch 0350/0469 | Cost: 0.0563\n",
            "Epoch: 003/010 | Batch 0400/0469 | Cost: 0.0499\n",
            "Epoch: 003/010 | Batch 0450/0469 | Cost: 0.0784\n",
            "Epoch: 003/010 | Train: 99.022%\n",
            "Time elapsed: 0.93 min\n",
            "Epoch: 004/010 | Batch 0000/0469 | Cost: 0.0427\n",
            "Epoch: 004/010 | Batch 0050/0469 | Cost: 0.0491\n",
            "Epoch: 004/010 | Batch 0100/0469 | Cost: 0.0655\n",
            "Epoch: 004/010 | Batch 0150/0469 | Cost: 0.0688\n",
            "Epoch: 004/010 | Batch 0200/0469 | Cost: 0.0795\n",
            "Epoch: 004/010 | Batch 0250/0469 | Cost: 0.0288\n",
            "Epoch: 004/010 | Batch 0300/0469 | Cost: 0.0624\n",
            "Epoch: 004/010 | Batch 0350/0469 | Cost: 0.0216\n",
            "Epoch: 004/010 | Batch 0400/0469 | Cost: 0.0205\n",
            "Epoch: 004/010 | Batch 0450/0469 | Cost: 0.0714\n",
            "Epoch: 004/010 | Train: 99.067%\n",
            "Time elapsed: 1.22 min\n",
            "Epoch: 005/010 | Batch 0000/0469 | Cost: 0.0227\n",
            "Epoch: 005/010 | Batch 0050/0469 | Cost: 0.0217\n",
            "Epoch: 005/010 | Batch 0100/0469 | Cost: 0.0086\n",
            "Epoch: 005/010 | Batch 0150/0469 | Cost: 0.0164\n",
            "Epoch: 005/010 | Batch 0200/0469 | Cost: 0.0324\n",
            "Epoch: 005/010 | Batch 0250/0469 | Cost: 0.0711\n",
            "Epoch: 005/010 | Batch 0300/0469 | Cost: 0.0071\n",
            "Epoch: 005/010 | Batch 0350/0469 | Cost: 0.0275\n",
            "Epoch: 005/010 | Batch 0400/0469 | Cost: 0.0200\n",
            "Epoch: 005/010 | Batch 0450/0469 | Cost: 0.0326\n",
            "Epoch: 005/010 | Train: 99.432%\n",
            "Time elapsed: 1.50 min\n",
            "Epoch: 006/010 | Batch 0000/0469 | Cost: 0.0142\n",
            "Epoch: 006/010 | Batch 0050/0469 | Cost: 0.0236\n",
            "Epoch: 006/010 | Batch 0100/0469 | Cost: 0.0615\n",
            "Epoch: 006/010 | Batch 0150/0469 | Cost: 0.0061\n",
            "Epoch: 006/010 | Batch 0200/0469 | Cost: 0.0014\n",
            "Epoch: 006/010 | Batch 0250/0469 | Cost: 0.0560\n",
            "Epoch: 006/010 | Batch 0300/0469 | Cost: 0.0229\n",
            "Epoch: 006/010 | Batch 0350/0469 | Cost: 0.0124\n",
            "Epoch: 006/010 | Batch 0400/0469 | Cost: 0.0284\n",
            "Epoch: 006/010 | Batch 0450/0469 | Cost: 0.0095\n",
            "Epoch: 006/010 | Train: 99.435%\n",
            "Time elapsed: 1.81 min\n",
            "Epoch: 007/010 | Batch 0000/0469 | Cost: 0.0322\n",
            "Epoch: 007/010 | Batch 0050/0469 | Cost: 0.0122\n",
            "Epoch: 007/010 | Batch 0100/0469 | Cost: 0.0062\n",
            "Epoch: 007/010 | Batch 0150/0469 | Cost: 0.0102\n",
            "Epoch: 007/010 | Batch 0200/0469 | Cost: 0.0123\n",
            "Epoch: 007/010 | Batch 0250/0469 | Cost: 0.0603\n",
            "Epoch: 007/010 | Batch 0300/0469 | Cost: 0.0168\n",
            "Epoch: 007/010 | Batch 0350/0469 | Cost: 0.0052\n",
            "Epoch: 007/010 | Batch 0400/0469 | Cost: 0.0122\n",
            "Epoch: 007/010 | Batch 0450/0469 | Cost: 0.0130\n",
            "Epoch: 007/010 | Train: 99.645%\n",
            "Time elapsed: 2.08 min\n",
            "Epoch: 008/010 | Batch 0000/0469 | Cost: 0.0200\n",
            "Epoch: 008/010 | Batch 0050/0469 | Cost: 0.0361\n",
            "Epoch: 008/010 | Batch 0100/0469 | Cost: 0.0143\n",
            "Epoch: 008/010 | Batch 0150/0469 | Cost: 0.0013\n",
            "Epoch: 008/010 | Batch 0200/0469 | Cost: 0.0061\n",
            "Epoch: 008/010 | Batch 0250/0469 | Cost: 0.0228\n",
            "Epoch: 008/010 | Batch 0300/0469 | Cost: 0.0047\n",
            "Epoch: 008/010 | Batch 0350/0469 | Cost: 0.0116\n",
            "Epoch: 008/010 | Batch 0400/0469 | Cost: 0.0074\n",
            "Epoch: 008/010 | Batch 0450/0469 | Cost: 0.0044\n",
            "Epoch: 008/010 | Train: 99.598%\n",
            "Time elapsed: 2.36 min\n",
            "Epoch: 009/010 | Batch 0000/0469 | Cost: 0.0035\n",
            "Epoch: 009/010 | Batch 0050/0469 | Cost: 0.0278\n",
            "Epoch: 009/010 | Batch 0100/0469 | Cost: 0.0021\n",
            "Epoch: 009/010 | Batch 0150/0469 | Cost: 0.0026\n",
            "Epoch: 009/010 | Batch 0200/0469 | Cost: 0.0087\n",
            "Epoch: 009/010 | Batch 0250/0469 | Cost: 0.0255\n",
            "Epoch: 009/010 | Batch 0300/0469 | Cost: 0.0138\n",
            "Epoch: 009/010 | Batch 0350/0469 | Cost: 0.0090\n",
            "Epoch: 009/010 | Batch 0400/0469 | Cost: 0.0061\n",
            "Epoch: 009/010 | Batch 0450/0469 | Cost: 0.0201\n",
            "Epoch: 009/010 | Train: 99.752%\n",
            "Time elapsed: 2.64 min\n",
            "Epoch: 010/010 | Batch 0000/0469 | Cost: 0.0033\n",
            "Epoch: 010/010 | Batch 0050/0469 | Cost: 0.0245\n",
            "Epoch: 010/010 | Batch 0100/0469 | Cost: 0.0017\n",
            "Epoch: 010/010 | Batch 0150/0469 | Cost: 0.0114\n",
            "Epoch: 010/010 | Batch 0200/0469 | Cost: 0.0025\n",
            "Epoch: 010/010 | Batch 0250/0469 | Cost: 0.0056\n",
            "Epoch: 010/010 | Batch 0300/0469 | Cost: 0.0028\n",
            "Epoch: 010/010 | Batch 0350/0469 | Cost: 0.0529\n",
            "Epoch: 010/010 | Batch 0400/0469 | Cost: 0.0063\n",
            "Epoch: 010/010 | Batch 0450/0469 | Cost: 0.0411\n",
            "Epoch: 010/010 | Train: 99.797%\n",
            "Time elapsed: 2.92 min\n",
            "Total Training Time: 2.92 min\n"
          ]
        }
      ],
      "source": [
        "def compute_accuracy(model, data_loader, device):\n",
        "    correct_pred, num_examples = 0, 0\n",
        "    for i, (features, targets) in enumerate(data_loader):\n",
        "            \n",
        "        features = features.to(device)\n",
        "        targets = targets.to(device)\n",
        "\n",
        "        logits, probas = model(features)\n",
        "        _, predicted_labels = torch.max(probas, 1)\n",
        "        num_examples += targets.size(0)\n",
        "        correct_pred += (predicted_labels == targets).sum()\n",
        "    return correct_pred.float()/num_examples * 100\n",
        "    \n",
        "\n",
        "start_time = time.time()\n",
        "for epoch in range(NUM_EPOCHS):\n",
        "    \n",
        "    model.train()\n",
        "    for batch_idx, (features, targets) in enumerate(train_loader):\n",
        "        \n",
        "        features = features.to(DEVICE)\n",
        "        targets = targets.to(DEVICE)\n",
        "            \n",
        "        ### FORWARD AND BACK PROP\n",
        "        logits, probas = model(features)\n",
        "        cost = F.cross_entropy(logits, targets)\n",
        "        optimizer.zero_grad()\n",
        "        \n",
        "        cost.backward()\n",
        "        \n",
        "        ### UPDATE MODEL PARAMETERS\n",
        "        optimizer.step()\n",
        "        \n",
        "        ### LOGGING\n",
        "        if not batch_idx % 50:\n",
        "            print ('Epoch: %03d/%03d | Batch %04d/%04d | Cost: %.4f' \n",
        "                   %(epoch+1, NUM_EPOCHS, batch_idx, \n",
        "                     len(train_loader), cost))\n",
        "\n",
        "        \n",
        "\n",
        "    model.eval()\n",
        "    with torch.set_grad_enabled(False): # save memory during inference\n",
        "        print('Epoch: %03d/%03d | Train: %.3f%%' % (\n",
        "              epoch+1, NUM_EPOCHS, \n",
        "              compute_accuracy(model, train_loader, device=DEVICE)))\n",
        "        \n",
        "    print('Time elapsed: %.2f min' % ((time.time() - start_time)/60))\n",
        "    \n",
        "print('Total Training Time: %.2f min' % ((time.time() - start_time)/60))"
      ]
    },
    {
      "cell_type": "markdown",
      "metadata": {
        "id": "paaeEQHQj5xC"
      },
      "source": [
        "## Evaluation"
      ]
    },
    {
      "cell_type": "code",
      "execution_count": 11,
      "metadata": {
        "colab": {
          "base_uri": "https://localhost:8080/"
        },
        "id": "gzQMWKq5j5xE",
        "outputId": "64681ab7-c68a-4219-d31e-1792da34ba4c"
      },
      "outputs": [
        {
          "output_type": "stream",
          "name": "stdout",
          "text": [
            "Test accuracy: 98.81%\n"
          ]
        }
      ],
      "source": [
        "with torch.set_grad_enabled(False): # save memory during inference\n",
        "    print('Test accuracy: %.2f%%' % (compute_accuracy(model, test_loader, device=DEVICE)))"
      ]
    },
    {
      "cell_type": "code",
      "execution_count": 13,
      "metadata": {
        "colab": {
          "base_uri": "https://localhost:8080/",
          "height": 266
        },
        "id": "ehR38d93UiJm",
        "outputId": "b0f97c17-b6ed-4c1b-84b8-c77f2a26cf66"
      },
      "outputs": [
        {
          "output_type": "display_data",
          "data": {
            "text/plain": [
              "<Figure size 432x288 with 1 Axes>"
            ],
            "image/png": "[encoded data removed]"
          },
          "metadata": {
            "needs_background": "light"
          }
        }
      ],
      "source": [
        "for batch_idx, (features, targets) in enumerate(test_loader):\n",
        "\n",
        "    features = features\n",
        "    targets = targets\n",
        "    break\n",
        "    \n",
        "    \n",
        "nhwc_img = np.transpose(features[0], axes=(1, 2, 0))\n",
        "nhw_img = np.squeeze(nhwc_img.numpy(), axis=2)\n",
        "plt.imshow(nhw_img, cmap='Greys');"
      ]
    },
    {
      "cell_type": "code",
      "execution_count": 14,
      "metadata": {
        "colab": {
          "base_uri": "https://localhost:8080/"
        },
        "id": "dyxCdlIJUiJm",
        "outputId": "c0d9114e-6ad3-46b5-f9d1-e87c3e000645"
      },
      "outputs": [
        {
          "output_type": "stream",
          "name": "stdout",
          "text": [
            "Probability 7 99.99%\n"
          ]
        }
      ],
      "source": [
        "model.eval()\n",
        "logits, probas = model(features.to(device)[0, None])\n",
        "print('Probability 7 %.2f%%' % (probas[0][7]*100))"
      ]
    }
  ],
  "metadata": {
    "accelerator": "GPU",
    "colab": {
      "provenance": []
    },
    "kernelspec": {
      "display_name": "Python 3",
      "language": "python",
      "name": "python3"
    },
    "language_info": {
      "codemirror_mode": {
        "name": "ipython",
        "version": 3
      },
      "file_extension": ".py",
      "mimetype": "text/x-python",
      "name": "python",
      "nbconvert_exporter": "python",
      "pygments_lexer": "ipython3",
      "version": "3.7.3"
    },
    "toc": {
      "nav_menu": {},
      "number_sections": true,
      "sideBar": true,
      "skip_h1_title": false,
      "title_cell": "Table of Contents",
      "title_sidebar": "Contents",
      "toc_cell": true,
      "toc_position": {
        "height": "calc(100% - 180px)",
        "left": "10px",
        "top": "150px",
        "width": "371px"
      },
      "toc_section_display": true,
      "toc_window_display": true
    }
  },
  "nbformat": 4,
  "nbformat_minor": 0
}